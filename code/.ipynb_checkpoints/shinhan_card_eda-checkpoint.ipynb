{
 "cells": [
  {
   "cell_type": "code",
   "execution_count": 1,
   "id": "dfc59254",
   "metadata": {},
   "outputs": [],
   "source": [
    "import pandas as pd\n",
    "import matplotlib.pyplot as plt\n",
    "import seaborn as sns\n",
    "import numpy as np"
   ]
  },
  {
   "cell_type": "code",
   "execution_count": 2,
   "id": "a23bc5f2",
   "metadata": {
    "scrolled": true
   },
   "outputs": [
    {
     "name": "stdout",
     "output_type": "stream",
     "text": [
      "30\n",
      "자택광역시도|가맹점광역시도|가맹점시군구|GB3|GB2|SEX_CCD|CLN_AGE_R|TA_YM|DAW_CCD_R|APV_TS_DL_TM_R|VLM|USEC\n",
      "\n",
      "42|42|42830|여행|교통|M|40|202107|RED|활동|18730606|78\n",
      "\n",
      "28|42|42830|여행|관광쇼핑|F|50|202107|RED|활동|319575|26\n",
      "\n",
      "28|43|43111|취미오락|외식|F|60|202107|RED|활동|2187119|96\n",
      "\n",
      "43|43|43111|취미오락|목욕|M|40|202107|RED|활동|1821140|201\n",
      "\n",
      "43|43|43112|여행|관광쇼핑|F|40|202107|WHITE|활동|100688|17\n",
      "\n",
      "36|43|43112|취미오락|유흥|F|30|202107|WHITE|활동|43777|8\n",
      "\n",
      "43|43|43130|취미오락|패션쇼핑|F|60|202107|WHITE|휴식|20862653|297\n",
      "\n",
      "28|43|43130|스포츠활동|골프|F|60|202107|WHITE|활동|18734108|140\n",
      "\n",
      "47|43|43150|취미오락|외식|F|40|202107|WHITE|활동|8332593|245\n",
      "\n",
      "30|43|43150|취미오락|외식|F|40|202107|WHITE|휴식|1091808|61\n",
      "\n",
      "46|43|43710|취미오락|외식|M|50|202107|WHITE|휴식|169418|26\n",
      "\n",
      "43|43|43720|취미오락|종교활동|F|40|202107|WHITE|활동|770482|78\n",
      "\n",
      "43|43|43740|취미오락|종합쇼핑|M|20|202107|WHITE|휴식|2360916|218\n",
      "\n",
      "43|43|43745|취미오락|미용|M|30|202107|RED|휴식|2171359|113\n",
      "\n",
      "44|43|43745|취미오락|외식|M|30|202107|WHITE|휴식|9577623|218\n",
      "\n",
      "27|43|43750|취미오락|외식|M|20|202107|RED|휴식|520075|35\n",
      "\n",
      "43|43|43750|스포츠활동|레저스포츠|M|50|202107|WHITE|활동|3573112|253\n",
      "\n",
      "43|43|43770|여행|체험|M|30|202107|RED|활동|1479676|35\n",
      "\n",
      "28|44|44131|여행|체험|F|20|202107|WHITE|활동|700438|26\n",
      "\n",
      "44|44|44133|문화예술활동|미술공예참여|M|50|202107|WHITE|활동|906192|52\n",
      "\n",
      "43|44|44133|문화예술활동|공연관람|F|20|202107|WHITE|활동|486804|61\n",
      "\n",
      "36|44|44133|취미오락|외식|M|50|202107|WHITE|취침|43777|8\n",
      "\n",
      "41|44|44133|스포츠활동|레저스포츠|F|50|202107|RED|활동|1050658|26\n",
      "\n",
      "27|44|44133|취미오락|종합쇼핑|M|60|202107|WHITE|취침|109443|17\n",
      "\n",
      "44|44|44133|문화예술활동|악기연주|F|60|202107|WHITE|활동|3064419|8\n",
      "\n",
      "30|44|44150|스포츠활동|레저스포츠|F|40|202107|WHITE|활동|183865|17\n",
      "\n",
      "29|44|44150|취미오락|종합쇼핑|F|20|202107|RED|휴식|182989|35\n",
      "\n",
      "46|44|44180|취미오락|외식|M|20|202107|RED|휴식|6260433|148\n",
      "\n",
      "30|44|44180|여행|숙박|F|30|202107|RED|휴식|321326|35\n",
      "\n"
     ]
    }
   ],
   "source": [
    "# HEAD(30) 보여주기\n",
    "N = 30\n",
    "with open('./2023 문화관광 데이터 분석대회_민간데이터/2023년 문화관광 데이터 분석대회(카드데이터_내국인).txt', encoding='utf-8') as myfile:\n",
    "    head = [next(myfile) for x in range(N)]\n",
    "print(len(head))\n",
    "for l in head:\n",
    "    print(l)"
   ]
  },
  {
   "cell_type": "code",
   "execution_count": 4,
   "id": "1fed5d44",
   "metadata": {},
   "outputs": [],
   "source": [
    "with open('/Users/seoihwan/Downloads/2023 문화관광 데이터 분석대회_민간데이터/2023년 문화관광 데이터 분석대회(카드데이터_내국인).txt', encoding='utf-8') as f:\n",
    "    column_names = f.readline().strip().split('|')"
   ]
  },
  {
   "cell_type": "code",
   "execution_count": 5,
   "id": "92e8cdda",
   "metadata": {},
   "outputs": [],
   "source": [
    "import pandas as pd\n",
    "\n",
    "def read_large_file(filename):\n",
    "    with open(filename, encoding='utf-8') as f:\n",
    "        # 첫 번째 줄은 컬럼 이름으로 읽어옴\n",
    "        column_names = f.readline().strip().split('|')\n",
    "        \n",
    "        # 나머지 데이터는 제너레이터로 읽어옴\n",
    "        for line in f:\n",
    "            yield line.strip().split('|')\n",
    "\n",
    "# 제너레이터로부터 데이터프레임 생성\n",
    "lines_generator = read_large_file('/Users/seoihwan/Downloads/2023 문화관광 데이터 분석대회_민간데이터/2023년 문화관광 데이터 분석대회(카드데이터_내국인).txt')\n",
    "df = pd.DataFrame(lines_generator, columns=column_names)"
   ]
  },
  {
   "cell_type": "code",
   "execution_count": 6,
   "id": "c502888a",
   "metadata": {},
   "outputs": [
    {
     "data": {
      "text/html": [
       "<div>\n",
       "<style scoped>\n",
       "    .dataframe tbody tr th:only-of-type {\n",
       "        vertical-align: middle;\n",
       "    }\n",
       "\n",
       "    .dataframe tbody tr th {\n",
       "        vertical-align: top;\n",
       "    }\n",
       "\n",
       "    .dataframe thead th {\n",
       "        text-align: right;\n",
       "    }\n",
       "</style>\n",
       "<table border=\"1\" class=\"dataframe\">\n",
       "  <thead>\n",
       "    <tr style=\"text-align: right;\">\n",
       "      <th></th>\n",
       "      <th>자택광역시도</th>\n",
       "      <th>가맹점광역시도</th>\n",
       "      <th>가맹점시군구</th>\n",
       "      <th>GB3</th>\n",
       "      <th>GB2</th>\n",
       "      <th>SEX_CCD</th>\n",
       "      <th>CLN_AGE_R</th>\n",
       "      <th>TA_YM</th>\n",
       "      <th>DAW_CCD_R</th>\n",
       "      <th>APV_TS_DL_TM_R</th>\n",
       "      <th>VLM</th>\n",
       "      <th>USEC</th>\n",
       "    </tr>\n",
       "  </thead>\n",
       "  <tbody>\n",
       "    <tr>\n",
       "      <th>0</th>\n",
       "      <td>42</td>\n",
       "      <td>42</td>\n",
       "      <td>42830</td>\n",
       "      <td>여행</td>\n",
       "      <td>교통</td>\n",
       "      <td>M</td>\n",
       "      <td>40</td>\n",
       "      <td>202107</td>\n",
       "      <td>RED</td>\n",
       "      <td>활동</td>\n",
       "      <td>18730606</td>\n",
       "      <td>78</td>\n",
       "    </tr>\n",
       "    <tr>\n",
       "      <th>1</th>\n",
       "      <td>28</td>\n",
       "      <td>42</td>\n",
       "      <td>42830</td>\n",
       "      <td>여행</td>\n",
       "      <td>관광쇼핑</td>\n",
       "      <td>F</td>\n",
       "      <td>50</td>\n",
       "      <td>202107</td>\n",
       "      <td>RED</td>\n",
       "      <td>활동</td>\n",
       "      <td>319575</td>\n",
       "      <td>26</td>\n",
       "    </tr>\n",
       "    <tr>\n",
       "      <th>2</th>\n",
       "      <td>28</td>\n",
       "      <td>43</td>\n",
       "      <td>43111</td>\n",
       "      <td>취미오락</td>\n",
       "      <td>외식</td>\n",
       "      <td>F</td>\n",
       "      <td>60</td>\n",
       "      <td>202107</td>\n",
       "      <td>RED</td>\n",
       "      <td>활동</td>\n",
       "      <td>2187119</td>\n",
       "      <td>96</td>\n",
       "    </tr>\n",
       "    <tr>\n",
       "      <th>3</th>\n",
       "      <td>43</td>\n",
       "      <td>43</td>\n",
       "      <td>43111</td>\n",
       "      <td>취미오락</td>\n",
       "      <td>목욕</td>\n",
       "      <td>M</td>\n",
       "      <td>40</td>\n",
       "      <td>202107</td>\n",
       "      <td>RED</td>\n",
       "      <td>활동</td>\n",
       "      <td>1821140</td>\n",
       "      <td>201</td>\n",
       "    </tr>\n",
       "    <tr>\n",
       "      <th>4</th>\n",
       "      <td>43</td>\n",
       "      <td>43</td>\n",
       "      <td>43112</td>\n",
       "      <td>여행</td>\n",
       "      <td>관광쇼핑</td>\n",
       "      <td>F</td>\n",
       "      <td>40</td>\n",
       "      <td>202107</td>\n",
       "      <td>WHITE</td>\n",
       "      <td>활동</td>\n",
       "      <td>100688</td>\n",
       "      <td>17</td>\n",
       "    </tr>\n",
       "    <tr>\n",
       "      <th>...</th>\n",
       "      <td>...</td>\n",
       "      <td>...</td>\n",
       "      <td>...</td>\n",
       "      <td>...</td>\n",
       "      <td>...</td>\n",
       "      <td>...</td>\n",
       "      <td>...</td>\n",
       "      <td>...</td>\n",
       "      <td>...</td>\n",
       "      <td>...</td>\n",
       "      <td>...</td>\n",
       "      <td>...</td>\n",
       "    </tr>\n",
       "    <tr>\n",
       "      <th>36778843</th>\n",
       "      <td>29</td>\n",
       "      <td>44</td>\n",
       "      <td>44133</td>\n",
       "      <td>취미오락</td>\n",
       "      <td>인터넷게임</td>\n",
       "      <td>F</td>\n",
       "      <td>40</td>\n",
       "      <td>202206</td>\n",
       "      <td>WHITE</td>\n",
       "      <td>활동</td>\n",
       "      <td>518579</td>\n",
       "      <td>88</td>\n",
       "    </tr>\n",
       "    <tr>\n",
       "      <th>36778844</th>\n",
       "      <td>43</td>\n",
       "      <td>44</td>\n",
       "      <td>44133</td>\n",
       "      <td>취미오락</td>\n",
       "      <td>유흥</td>\n",
       "      <td>M</td>\n",
       "      <td>40</td>\n",
       "      <td>202206</td>\n",
       "      <td>WHITE</td>\n",
       "      <td>취침</td>\n",
       "      <td>790217</td>\n",
       "      <td>9</td>\n",
       "    </tr>\n",
       "    <tr>\n",
       "      <th>36778845</th>\n",
       "      <td>43</td>\n",
       "      <td>44</td>\n",
       "      <td>44150</td>\n",
       "      <td>취미오락</td>\n",
       "      <td>교육훈련</td>\n",
       "      <td>F</td>\n",
       "      <td>60</td>\n",
       "      <td>202206</td>\n",
       "      <td>RED</td>\n",
       "      <td>활동</td>\n",
       "      <td>98777</td>\n",
       "      <td>9</td>\n",
       "    </tr>\n",
       "    <tr>\n",
       "      <th>36778846</th>\n",
       "      <td>11</td>\n",
       "      <td>44</td>\n",
       "      <td>44200</td>\n",
       "      <td>여행</td>\n",
       "      <td>숙박</td>\n",
       "      <td>M</td>\n",
       "      <td>30</td>\n",
       "      <td>202206</td>\n",
       "      <td>RED</td>\n",
       "      <td>취침</td>\n",
       "      <td>3160868</td>\n",
       "      <td>9</td>\n",
       "    </tr>\n",
       "    <tr>\n",
       "      <th>36778847</th>\n",
       "      <td>43</td>\n",
       "      <td>44</td>\n",
       "      <td>44210</td>\n",
       "      <td>문화예술활동</td>\n",
       "      <td>공연관람</td>\n",
       "      <td>M</td>\n",
       "      <td>40</td>\n",
       "      <td>202206</td>\n",
       "      <td>WHITE</td>\n",
       "      <td>휴식</td>\n",
       "      <td>49388</td>\n",
       "      <td>19</td>\n",
       "    </tr>\n",
       "  </tbody>\n",
       "</table>\n",
       "<p>36778848 rows × 12 columns</p>\n",
       "</div>"
      ],
      "text/plain": [
       "         자택광역시도 가맹점광역시도 가맹점시군구     GB3    GB2 SEX_CCD CLN_AGE_R   TA_YM  \\\n",
       "0            42      42  42830      여행     교통       M        40  202107   \n",
       "1            28      42  42830      여행   관광쇼핑       F        50  202107   \n",
       "2            28      43  43111    취미오락     외식       F        60  202107   \n",
       "3            43      43  43111    취미오락     목욕       M        40  202107   \n",
       "4            43      43  43112      여행   관광쇼핑       F        40  202107   \n",
       "...         ...     ...    ...     ...    ...     ...       ...     ...   \n",
       "36778843     29      44  44133    취미오락  인터넷게임       F        40  202206   \n",
       "36778844     43      44  44133    취미오락     유흥       M        40  202206   \n",
       "36778845     43      44  44150    취미오락   교육훈련       F        60  202206   \n",
       "36778846     11      44  44200      여행     숙박       M        30  202206   \n",
       "36778847     43      44  44210  문화예술활동   공연관람       M        40  202206   \n",
       "\n",
       "         DAW_CCD_R APV_TS_DL_TM_R       VLM USEC  \n",
       "0              RED             활동  18730606   78  \n",
       "1              RED             활동    319575   26  \n",
       "2              RED             활동   2187119   96  \n",
       "3              RED             활동   1821140  201  \n",
       "4            WHITE             활동    100688   17  \n",
       "...            ...            ...       ...  ...  \n",
       "36778843     WHITE             활동    518579   88  \n",
       "36778844     WHITE             취침    790217    9  \n",
       "36778845       RED             활동     98777    9  \n",
       "36778846       RED             취침   3160868    9  \n",
       "36778847     WHITE             휴식     49388   19  \n",
       "\n",
       "[36778848 rows x 12 columns]"
      ]
     },
     "execution_count": 6,
     "metadata": {},
     "output_type": "execute_result"
    }
   ],
   "source": [
    "df"
   ]
  },
  {
   "cell_type": "code",
   "execution_count": 7,
   "id": "fde0d752",
   "metadata": {},
   "outputs": [],
   "source": [
    "df.to_csv('shinhan.csv',encoding='cp949',index=False)"
   ]
  },
  {
   "cell_type": "code",
   "execution_count": 8,
   "id": "3e0ebb5a",
   "metadata": {},
   "outputs": [],
   "source": [
    "df1 = df.copy()"
   ]
  },
  {
   "cell_type": "code",
   "execution_count": 6,
   "id": "97557246",
   "metadata": {},
   "outputs": [
    {
     "data": {
      "text/plain": [
       "array(['여행', '취미오락', '스포츠활동', '문화예술활동'], dtype=object)"
      ]
     },
     "execution_count": 6,
     "metadata": {},
     "output_type": "execute_result"
    }
   ],
   "source": [
    "df1.GB3.unique()"
   ]
  },
  {
   "cell_type": "code",
   "execution_count": null,
   "id": "eb681261",
   "metadata": {},
   "outputs": [],
   "source": [
    "plt.rc('font', family='AppleGothic')\n",
    "palette = sns.color_palette('Set2')\n",
    "gb3 = df1.groupby('GB3')['USEC'].sum().to_frame()\n",
    "sns.barplot(y=gb3.index,x=gb3.GB3,palette=palette)"
   ]
  },
  {
   "cell_type": "markdown",
   "id": "e8042652",
   "metadata": {},
   "source": [
    "## 고려사항\n",
    "- 거주지와 사용한(가맹점) 곳의 차이를 둘지 말지 why? 이는 근교로 관광쇼핑 하는 것도 여행으로 간주되기 때문"
   ]
  },
  {
   "cell_type": "code",
   "execution_count": null,
   "id": "d1708cab",
   "metadata": {},
   "outputs": [],
   "source": [
    "df1.GB2.unique()"
   ]
  },
  {
   "cell_type": "code",
   "execution_count": null,
   "id": "33a39e27",
   "metadata": {},
   "outputs": [],
   "source": [
    "plt.rc('font', family='AppleGothic')\n",
    "palette = sns.color_palette('Set2')\n",
    "gb2 = df1.groupby('GB2')['VLM'].sum().to_frame()\n",
    "sns.barplot(y=gb2.index,x=gb2.GB2,palette=palette)"
   ]
  },
  {
   "cell_type": "code",
   "execution_count": 24,
   "id": "60e48cc9",
   "metadata": {},
   "outputs": [
    {
     "data": {
      "text/plain": [
       "30045321"
      ]
     },
     "execution_count": 24,
     "metadata": {},
     "output_type": "execute_result"
    }
   ],
   "source": [
    "df_trav = df1[df1['자택광역시도'] != df1['가맹점광역시도']]\n",
    "len(df_trav)"
   ]
  },
  {
   "cell_type": "code",
   "execution_count": null,
   "id": "e4d7d4ef",
   "metadata": {},
   "outputs": [],
   "source": [
    "df1.to_csv('shinhan.csv',encoding='euc-kr')"
   ]
  },
  {
   "cell_type": "code",
   "execution_count": null,
   "id": "f02247ef",
   "metadata": {},
   "outputs": [],
   "source": [
    "df_gb2 = df1[df1.GB2.isin(['관광쇼핑','외식','숙박','애완동물돌보기'])]"
   ]
  },
  {
   "cell_type": "code",
   "execution_count": null,
   "id": "c0b6c5ee",
   "metadata": {},
   "outputs": [],
   "source": [
    "df = pd.read_csv('/Users/seoihwan/Downloads/2023 문화관광 데이터 분석대회_민간데이터/shinhan.csv',encoding='cp949')"
   ]
  },
  {
   "cell_type": "code",
   "execution_count": null,
   "id": "45df2927",
   "metadata": {},
   "outputs": [],
   "source": []
  },
  {
   "cell_type": "code",
   "execution_count": null,
   "id": "e12a7834",
   "metadata": {},
   "outputs": [],
   "source": []
  },
  {
   "cell_type": "code",
   "execution_count": null,
   "id": "4998973f",
   "metadata": {},
   "outputs": [],
   "source": []
  },
  {
   "cell_type": "code",
   "execution_count": null,
   "id": "56ece127",
   "metadata": {},
   "outputs": [],
   "source": []
  },
  {
   "cell_type": "code",
   "execution_count": null,
   "id": "233ab18d",
   "metadata": {},
   "outputs": [],
   "source": []
  },
  {
   "cell_type": "code",
   "execution_count": null,
   "id": "4d3133c5",
   "metadata": {},
   "outputs": [],
   "source": []
  },
  {
   "cell_type": "code",
   "execution_count": null,
   "id": "336446f2",
   "metadata": {},
   "outputs": [],
   "source": []
  },
  {
   "cell_type": "code",
   "execution_count": null,
   "id": "ce6079e8",
   "metadata": {},
   "outputs": [],
   "source": []
  }
 ],
 "metadata": {
  "kernelspec": {
   "display_name": "Python 3 (ipykernel)",
   "language": "python",
   "name": "python3"
  },
  "language_info": {
   "codemirror_mode": {
    "name": "ipython",
    "version": 3
   },
   "file_extension": ".py",
   "mimetype": "text/x-python",
   "name": "python",
   "nbconvert_exporter": "python",
   "pygments_lexer": "ipython3",
   "version": "3.10.8"
  }
 },
 "nbformat": 4,
 "nbformat_minor": 5
}
