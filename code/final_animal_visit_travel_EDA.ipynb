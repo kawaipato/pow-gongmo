{
 "cells": [
  {
   "cell_type": "code",
   "execution_count": 20,
   "id": "bc4aeeee",
   "metadata": {},
   "outputs": [],
   "source": [
    "# 라이브러리 불러오기\n",
    "import pandas as pd\n",
    "import numpy as np\n",
    "import seaborn as sns\n",
    "import matplotlib.pyplot as plt\n",
    "\n",
    "# 그래프 한글 깨짐 방지\n",
    "import matplotlib\n",
    "matplotlib.rcParams['font.family'] ='Malgun Gothic'\n",
    "matplotlib.rcParams['axes.unicode_minus'] =False\n",
    "\n",
    "# 오류 무시\n",
    "import warnings\n",
    "warnings.filterwarnings('ignore')"
   ]
  },
  {
   "cell_type": "code",
   "execution_count": 21,
   "id": "5aaee4ac",
   "metadata": {},
   "outputs": [],
   "source": [
    "# 데이터 불러오기\n",
    "# 경로지정 변경확인 필요\n",
    "df = pd.read_csv(r'C:\\Users\\puzzl\\gongmo\\pow-gongmo\\data\\final\\final_animal_visit_travel.csv', encoding ='cp949')"
   ]
  },
  {
   "cell_type": "code",
   "execution_count": 22,
   "id": "f0cf35b0",
   "metadata": {},
   "outputs": [
    {
     "data": {
      "text/html": [
       "<div>\n",
       "<style scoped>\n",
       "    .dataframe tbody tr th:only-of-type {\n",
       "        vertical-align: middle;\n",
       "    }\n",
       "\n",
       "    .dataframe tbody tr th {\n",
       "        vertical-align: top;\n",
       "    }\n",
       "\n",
       "    .dataframe thead th {\n",
       "        text-align: right;\n",
       "    }\n",
       "</style>\n",
       "<table border=\"1\" class=\"dataframe\">\n",
       "  <thead>\n",
       "    <tr style=\"text-align: right;\">\n",
       "      <th></th>\n",
       "      <th>시군구</th>\n",
       "      <th>방문자 수</th>\n",
       "      <th>관광명소</th>\n",
       "      <th>기타</th>\n",
       "      <th>숙박</th>\n",
       "      <th>음식점</th>\n",
       "      <th>카페</th>\n",
       "      <th>A10</th>\n",
       "      <th>A11</th>\n",
       "      <th>A12</th>\n",
       "    </tr>\n",
       "  </thead>\n",
       "  <tbody>\n",
       "    <tr>\n",
       "      <th>0</th>\n",
       "      <td>가평군</td>\n",
       "      <td>22105529</td>\n",
       "      <td>13</td>\n",
       "      <td>11</td>\n",
       "      <td>223</td>\n",
       "      <td>35</td>\n",
       "      <td>37</td>\n",
       "      <td>4.17</td>\n",
       "      <td>3.95</td>\n",
       "      <td>3.99</td>\n",
       "    </tr>\n",
       "    <tr>\n",
       "      <th>1</th>\n",
       "      <td>강남구</td>\n",
       "      <td>103309405</td>\n",
       "      <td>2</td>\n",
       "      <td>11</td>\n",
       "      <td>3</td>\n",
       "      <td>10</td>\n",
       "      <td>36</td>\n",
       "      <td>4.10</td>\n",
       "      <td>4.13</td>\n",
       "      <td>3.98</td>\n",
       "    </tr>\n",
       "    <tr>\n",
       "      <th>2</th>\n",
       "      <td>강동구</td>\n",
       "      <td>23706460</td>\n",
       "      <td>2</td>\n",
       "      <td>6</td>\n",
       "      <td>1</td>\n",
       "      <td>2</td>\n",
       "      <td>18</td>\n",
       "      <td>3.60</td>\n",
       "      <td>3.92</td>\n",
       "      <td>3.96</td>\n",
       "    </tr>\n",
       "    <tr>\n",
       "      <th>3</th>\n",
       "      <td>강릉시</td>\n",
       "      <td>26260986</td>\n",
       "      <td>8</td>\n",
       "      <td>11</td>\n",
       "      <td>70</td>\n",
       "      <td>33</td>\n",
       "      <td>33</td>\n",
       "      <td>4.27</td>\n",
       "      <td>4.13</td>\n",
       "      <td>3.75</td>\n",
       "    </tr>\n",
       "    <tr>\n",
       "      <th>4</th>\n",
       "      <td>강북구</td>\n",
       "      <td>18328235</td>\n",
       "      <td>1</td>\n",
       "      <td>5</td>\n",
       "      <td>1</td>\n",
       "      <td>6</td>\n",
       "      <td>19</td>\n",
       "      <td>4.50</td>\n",
       "      <td>4.00</td>\n",
       "      <td>3.89</td>\n",
       "    </tr>\n",
       "  </tbody>\n",
       "</table>\n",
       "</div>"
      ],
      "text/plain": [
       "   시군구      방문자 수  관광명소  기타   숙박  음식점  카페   A10   A11   A12\n",
       "0  가평군   22105529    13  11  223   35  37  4.17  3.95  3.99\n",
       "1  강남구  103309405     2  11    3   10  36  4.10  4.13  3.98\n",
       "2  강동구   23706460     2   6    1    2  18  3.60  3.92  3.96\n",
       "3  강릉시   26260986     8  11   70   33  33  4.27  4.13  3.75\n",
       "4  강북구   18328235     1   5    1    6  19  4.50  4.00  3.89"
      ]
     },
     "execution_count": 22,
     "metadata": {},
     "output_type": "execute_result"
    }
   ],
   "source": [
    "# 데이터확인\n",
    "df.head()"
   ]
  },
  {
   "cell_type": "code",
   "execution_count": 23,
   "id": "8cf37f23",
   "metadata": {},
   "outputs": [
    {
     "data": {
      "text/plain": [
       "(229, 10)"
      ]
     },
     "execution_count": 23,
     "metadata": {},
     "output_type": "execute_result"
    }
   ],
   "source": [
    "# 데이터의 shape 파악\n",
    "# 229행 10열\n",
    "df.shape"
   ]
  },
  {
   "cell_type": "code",
   "execution_count": 24,
   "id": "ad8f715a",
   "metadata": {},
   "outputs": [
    {
     "data": {
      "text/html": [
       "<div>\n",
       "<style scoped>\n",
       "    .dataframe tbody tr th:only-of-type {\n",
       "        vertical-align: middle;\n",
       "    }\n",
       "\n",
       "    .dataframe tbody tr th {\n",
       "        vertical-align: top;\n",
       "    }\n",
       "\n",
       "    .dataframe thead th {\n",
       "        text-align: right;\n",
       "    }\n",
       "</style>\n",
       "<table border=\"1\" class=\"dataframe\">\n",
       "  <thead>\n",
       "    <tr style=\"text-align: right;\">\n",
       "      <th></th>\n",
       "      <th>방문자 수</th>\n",
       "      <th>관광명소</th>\n",
       "      <th>기타</th>\n",
       "      <th>숙박</th>\n",
       "      <th>음식점</th>\n",
       "      <th>카페</th>\n",
       "      <th>A10</th>\n",
       "      <th>A11</th>\n",
       "      <th>A12</th>\n",
       "    </tr>\n",
       "  </thead>\n",
       "  <tbody>\n",
       "    <tr>\n",
       "      <th>count</th>\n",
       "      <td>2.290000e+02</td>\n",
       "      <td>229.000000</td>\n",
       "      <td>229.000000</td>\n",
       "      <td>229.000000</td>\n",
       "      <td>229.000000</td>\n",
       "      <td>229.000000</td>\n",
       "      <td>229.000000</td>\n",
       "      <td>229.000000</td>\n",
       "      <td>229.000000</td>\n",
       "    </tr>\n",
       "    <tr>\n",
       "      <th>mean</th>\n",
       "      <td>1.832286e+07</td>\n",
       "      <td>4.074236</td>\n",
       "      <td>7.275109</td>\n",
       "      <td>14.703057</td>\n",
       "      <td>5.637555</td>\n",
       "      <td>15.078603</td>\n",
       "      <td>4.146114</td>\n",
       "      <td>4.016157</td>\n",
       "      <td>3.936507</td>\n",
       "    </tr>\n",
       "    <tr>\n",
       "      <th>std</th>\n",
       "      <td>1.640632e+07</td>\n",
       "      <td>5.150259</td>\n",
       "      <td>6.703517</td>\n",
       "      <td>31.437198</td>\n",
       "      <td>7.797581</td>\n",
       "      <td>17.890332</td>\n",
       "      <td>0.421847</td>\n",
       "      <td>0.427156</td>\n",
       "      <td>0.435901</td>\n",
       "    </tr>\n",
       "    <tr>\n",
       "      <th>min</th>\n",
       "      <td>1.376345e+06</td>\n",
       "      <td>0.000000</td>\n",
       "      <td>0.000000</td>\n",
       "      <td>0.000000</td>\n",
       "      <td>0.000000</td>\n",
       "      <td>0.000000</td>\n",
       "      <td>0.000000</td>\n",
       "      <td>0.000000</td>\n",
       "      <td>0.000000</td>\n",
       "    </tr>\n",
       "    <tr>\n",
       "      <th>25%</th>\n",
       "      <td>6.756851e+06</td>\n",
       "      <td>2.000000</td>\n",
       "      <td>3.000000</td>\n",
       "      <td>1.000000</td>\n",
       "      <td>1.000000</td>\n",
       "      <td>2.000000</td>\n",
       "      <td>4.110000</td>\n",
       "      <td>3.970000</td>\n",
       "      <td>3.920000</td>\n",
       "    </tr>\n",
       "    <tr>\n",
       "      <th>50%</th>\n",
       "      <td>1.345986e+07</td>\n",
       "      <td>3.000000</td>\n",
       "      <td>5.000000</td>\n",
       "      <td>4.000000</td>\n",
       "      <td>3.000000</td>\n",
       "      <td>9.000000</td>\n",
       "      <td>4.190000</td>\n",
       "      <td>4.060000</td>\n",
       "      <td>4.000000</td>\n",
       "    </tr>\n",
       "    <tr>\n",
       "      <th>75%</th>\n",
       "      <td>2.430010e+07</td>\n",
       "      <td>5.000000</td>\n",
       "      <td>10.000000</td>\n",
       "      <td>13.000000</td>\n",
       "      <td>7.000000</td>\n",
       "      <td>21.000000</td>\n",
       "      <td>4.260000</td>\n",
       "      <td>4.150000</td>\n",
       "      <td>4.070000</td>\n",
       "    </tr>\n",
       "    <tr>\n",
       "      <th>max</th>\n",
       "      <td>1.033094e+08</td>\n",
       "      <td>54.000000</td>\n",
       "      <td>52.000000</td>\n",
       "      <td>228.000000</td>\n",
       "      <td>44.000000</td>\n",
       "      <td>98.000000</td>\n",
       "      <td>4.750000</td>\n",
       "      <td>4.570000</td>\n",
       "      <td>4.670000</td>\n",
       "    </tr>\n",
       "  </tbody>\n",
       "</table>\n",
       "</div>"
      ],
      "text/plain": [
       "              방문자 수        관광명소          기타          숙박         음식점  \\\n",
       "count  2.290000e+02  229.000000  229.000000  229.000000  229.000000   \n",
       "mean   1.832286e+07    4.074236    7.275109   14.703057    5.637555   \n",
       "std    1.640632e+07    5.150259    6.703517   31.437198    7.797581   \n",
       "min    1.376345e+06    0.000000    0.000000    0.000000    0.000000   \n",
       "25%    6.756851e+06    2.000000    3.000000    1.000000    1.000000   \n",
       "50%    1.345986e+07    3.000000    5.000000    4.000000    3.000000   \n",
       "75%    2.430010e+07    5.000000   10.000000   13.000000    7.000000   \n",
       "max    1.033094e+08   54.000000   52.000000  228.000000   44.000000   \n",
       "\n",
       "               카페         A10         A11         A12  \n",
       "count  229.000000  229.000000  229.000000  229.000000  \n",
       "mean    15.078603    4.146114    4.016157    3.936507  \n",
       "std     17.890332    0.421847    0.427156    0.435901  \n",
       "min      0.000000    0.000000    0.000000    0.000000  \n",
       "25%      2.000000    4.110000    3.970000    3.920000  \n",
       "50%      9.000000    4.190000    4.060000    4.000000  \n",
       "75%     21.000000    4.260000    4.150000    4.070000  \n",
       "max     98.000000    4.750000    4.570000    4.670000  "
      ]
     },
     "execution_count": 24,
     "metadata": {},
     "output_type": "execute_result"
    }
   ],
   "source": [
    "# 기초통계량 확인\n",
    "df.describe()"
   ]
  },
  {
   "cell_type": "code",
   "execution_count": 25,
   "id": "dc7d3f21",
   "metadata": {},
   "outputs": [
    {
     "data": {
      "text/plain": [
       "시군구      0\n",
       "방문자 수    0\n",
       "관광명소     0\n",
       "기타       0\n",
       "숙박       0\n",
       "음식점      0\n",
       "카페       0\n",
       "A10      0\n",
       "A11      0\n",
       "A12      0\n",
       "dtype: int64"
      ]
     },
     "execution_count": 25,
     "metadata": {},
     "output_type": "execute_result"
    }
   ],
   "source": [
    "# 결측치 개수 파악\n",
    "# 결측치 존재 x\n",
    "# -> 하지만 A10~A12에서 0점인 경우는 설문조사 응답자중 해당 시군구에 방문한 사람이 없는경우 이기 때문에 결측치라고 간주해야함\n",
    "# 따라서 A10~A12가 0점인 성북구, 인천광역시 동구를 제외함\n",
    "df.isnull().sum()\n",
    "df2 = df[(df['시군구'] != '성북구')&(df['시군구'] != '인천광역시 동구')]"
   ]
  },
  {
   "cell_type": "code",
   "execution_count": 28,
   "id": "717a776e",
   "metadata": {},
   "outputs": [
    {
     "data": {
      "text/plain": [
       "시군구       object\n",
       "방문자 수      int64\n",
       "관광명소       int64\n",
       "기타         int64\n",
       "숙박         int64\n",
       "음식점        int64\n",
       "카페         int64\n",
       "A10      float64\n",
       "A11      float64\n",
       "A12      float64\n",
       "dtype: object"
      ]
     },
     "execution_count": 28,
     "metadata": {},
     "output_type": "execute_result"
    }
   ],
   "source": [
    "# 변수 타입 파악\n",
    "df2.dtypes"
   ]
  },
  {
   "cell_type": "code",
   "execution_count": 29,
   "id": "8e25a838",
   "metadata": {},
   "outputs": [],
   "source": [
    "# 시군구 컬럼을 제외한 데이터프레임 생성 (연속형 변수만 선택)\n",
    "df3 = df2.drop(columns = ['시군구'])"
   ]
  },
  {
   "cell_type": "code",
   "execution_count": 30,
   "id": "5eb4d4eb",
   "metadata": {},
   "outputs": [
    {
     "data": {
      "image/png": "[encoded data removed]",
      "text/plain": [
       "<Figure size 1800x1800 with 9 Axes>"
      ]
     },
     "metadata": {},
     "output_type": "display_data"
    }
   ],
   "source": [
    "# 각각 연속형변수에 대해 분포 확인\n",
    "# 방문자수, 관광명소, 기타, 숙박, 음식점, 카페는 왼쪽으로 치우쳐진 분포의 형태를 띄고 있음\n",
    "# -> 따라서 해당 변수에대한 정규화 필요해보임\n",
    "df3.hist(bins=100, figsize=(18,18))\n",
    "plt.show()"
   ]
  },
  {
   "cell_type": "code",
   "execution_count": null,
   "id": "38aff851",
   "metadata": {},
   "outputs": [],
   "source": []
  },
  {
   "cell_type": "code",
   "execution_count": null,
   "id": "c3a2afe7",
   "metadata": {},
   "outputs": [],
   "source": []
  },
  {
   "cell_type": "code",
   "execution_count": null,
   "id": "12740ce8",
   "metadata": {},
   "outputs": [],
   "source": []
  }
 ],
 "metadata": {
  "kernelspec": {
   "display_name": "Python 3 (ipykernel)",
   "language": "python",
   "name": "python3"
  },
  "language_info": {
   "codemirror_mode": {
    "name": "ipython",
    "version": 3
   },
   "file_extension": ".py",
   "mimetype": "text/x-python",
   "name": "python",
   "nbconvert_exporter": "python",
   "pygments_lexer": "ipython3",
   "version": "3.10.9"
  }
 },
 "nbformat": 4,
 "nbformat_minor": 5
}
