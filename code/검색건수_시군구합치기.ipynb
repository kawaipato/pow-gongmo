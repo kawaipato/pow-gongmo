{
 "cells": [
  {
   "cell_type": "code",
   "execution_count": 205,
   "id": "2182c53e",
   "metadata": {},
   "outputs": [],
   "source": [
    "import pandas as pd"
   ]
  },
  {
   "cell_type": "code",
   "execution_count": 206,
   "id": "d2e222c9",
   "metadata": {},
   "outputs": [],
   "source": [
    "df1 = pd.read_csv(r'C:\\Users\\puzzl\\gongmo\\pow-gongmo\\data\\검색건수\\기타관광.csv', encoding = 'cp949')\n",
    "df2 = pd.read_csv(r'C:\\Users\\puzzl\\gongmo\\pow-gongmo\\data\\검색건수\\문화관광.csv', encoding = 'cp949')\n",
    "df3 = pd.read_csv(r'C:\\Users\\puzzl\\gongmo\\pow-gongmo\\data\\검색건수\\숙박.csv', encoding = 'cp949')\n",
    "df4 = pd.read_csv(r'C:\\Users\\puzzl\\gongmo\\pow-gongmo\\data\\검색건수\\역사관광.csv', encoding = 'cp949')\n",
    "df5 = pd.read_csv(r'C:\\Users\\puzzl\\gongmo\\pow-gongmo\\data\\검색건수\\음식.csv', encoding = 'cp949')\n",
    "df6 = pd.read_csv(r'C:\\Users\\puzzl\\gongmo\\pow-gongmo\\data\\검색건수\\자연관광.csv', encoding = 'cp949')\n",
    "df7 = pd.read_csv(r'C:\\Users\\puzzl\\gongmo\\pow-gongmo\\data\\검색건수\\체험관광.csv', encoding = 'cp949')"
   ]
  },
  {
   "cell_type": "code",
   "execution_count": 207,
   "id": "3d693e8e",
   "metadata": {},
   "outputs": [
    {
     "data": {
      "text/html": [
       "<div>\n",
       "<style scoped>\n",
       "    .dataframe tbody tr th:only-of-type {\n",
       "        vertical-align: middle;\n",
       "    }\n",
       "\n",
       "    .dataframe tbody tr th {\n",
       "        vertical-align: top;\n",
       "    }\n",
       "\n",
       "    .dataframe thead th {\n",
       "        text-align: right;\n",
       "    }\n",
       "</style>\n",
       "<table border=\"1\" class=\"dataframe\">\n",
       "  <thead>\n",
       "    <tr style=\"text-align: right;\">\n",
       "      <th></th>\n",
       "      <th>시군</th>\n",
       "      <th>기초지자체</th>\n",
       "      <th>카테고리중분류명</th>\n",
       "      <th>중분류 검색건수</th>\n",
       "    </tr>\n",
       "  </thead>\n",
       "  <tbody>\n",
       "    <tr>\n",
       "      <th>161</th>\n",
       "      <td>울산광역시</td>\n",
       "      <td>남구</td>\n",
       "      <td>체험관광</td>\n",
       "      <td>83</td>\n",
       "    </tr>\n",
       "    <tr>\n",
       "      <th>162</th>\n",
       "      <td>울산광역시</td>\n",
       "      <td>동구</td>\n",
       "      <td>체험관광</td>\n",
       "      <td>33</td>\n",
       "    </tr>\n",
       "    <tr>\n",
       "      <th>163</th>\n",
       "      <td>울산광역시</td>\n",
       "      <td>북구</td>\n",
       "      <td>체험관광</td>\n",
       "      <td>1139</td>\n",
       "    </tr>\n",
       "    <tr>\n",
       "      <th>164</th>\n",
       "      <td>울산광역시</td>\n",
       "      <td>울주군</td>\n",
       "      <td>체험관광</td>\n",
       "      <td>21070</td>\n",
       "    </tr>\n",
       "    <tr>\n",
       "      <th>165</th>\n",
       "      <td>울산광역시</td>\n",
       "      <td>중구</td>\n",
       "      <td>체험관광</td>\n",
       "      <td>575</td>\n",
       "    </tr>\n",
       "  </tbody>\n",
       "</table>\n",
       "</div>"
      ],
      "text/plain": [
       "        시군 기초지자체 카테고리중분류명   중분류 검색건수\n",
       "161  울산광역시    남구      체험관광        83\n",
       "162  울산광역시    동구      체험관광        33\n",
       "163  울산광역시    북구      체험관광      1139\n",
       "164  울산광역시   울주군      체험관광     21070\n",
       "165  울산광역시    중구      체험관광       575"
      ]
     },
     "execution_count": 207,
     "metadata": {},
     "output_type": "execute_result"
    }
   ],
   "source": [
    "df7[df7['시군'] == '울산광역시']"
   ]
  },
  {
   "cell_type": "code",
   "execution_count": 208,
   "id": "c67f4a79",
   "metadata": {},
   "outputs": [],
   "source": [
    "df1['시군구'] = df1.기초지자체.str[:4].str.strip()\n",
    "df2['시군구'] = df2.기초지자체.str[:4].str.strip()\n",
    "df3['시군구'] = df3.기초지자체.str[:4].str.strip()\n",
    "df4['시군구'] = df4.기초지자체.str[:4].str.strip()\n",
    "df5['시군구'] = df5.기초지자체.str[:4].str.strip()\n",
    "df6['시군구'] = df6.기초지자체.str[:4].str.strip()\n",
    "df7['시군구'] = df7.기초지자체.str[:4].str.strip()"
   ]
  },
  {
   "cell_type": "code",
   "execution_count": 209,
   "id": "6b4f999f",
   "metadata": {},
   "outputs": [],
   "source": [
    "df1['시군구'] = df1.기초지자체.str[:4].str.strip()\n",
    "df1 = df1.groupby(['시군','시군구'])['중분류 검색건수'].sum().reset_index()\n",
    "\n",
    "df2['시군구'] = df2.기초지자체.str[:4].str.strip()\n",
    "df2 = df2.groupby(['시군','시군구'])['중분류 검색건수'].sum().reset_index()\n",
    "\n",
    "df3['시군구'] = df3.기초지자체.str[:4].str.strip()\n",
    "df3 = df3.groupby(['시군','시군구'])['중분류 검색건수'].sum().reset_index()\n",
    "\n",
    "df4['시군구'] = df4.기초지자체.str[:4].str.strip()\n",
    "df4 = df4.groupby(['시군','시군구'])['중분류 검색건수'].sum().reset_index()\n",
    "\n",
    "df5['시군구'] = df5.기초지자체.str[:4].str.strip()\n",
    "df5 = df5.groupby(['시군','시군구'])['중분류 검색건수'].sum().reset_index()\n",
    "\n",
    "df6['시군구'] = df6.기초지자체.str[:4].str.strip()\n",
    "df6 = df6.groupby(['시군','시군구'])['중분류 검색건수'].sum().reset_index()\n",
    "\n",
    "df7['시군구'] = df7.기초지자체.str[:4].str.strip()\n",
    "df7 = df7.groupby(['시군','시군구'])['중분류 검색건수'].sum().reset_index()"
   ]
  },
  {
   "cell_type": "code",
   "execution_count": 210,
   "id": "c9a3ccf8",
   "metadata": {},
   "outputs": [],
   "source": [
    "df1['기타관광_검색건수'] = df1['중분류 검색건수']\n",
    "df2['문화관광_검색건수'] = df2['중분류 검색건수']\n",
    "df3['숙박_검색건수'] = df3['중분류 검색건수']\n",
    "df4['역사관광_검색건수'] = df4['중분류 검색건수']\n",
    "df5['음식_검색건수'] = df5['중분류 검색건수']\n",
    "df6['자연관광_검색건수'] = df6['중분류 검색건수']\n",
    "df7['체험관광_검색건수'] = df7['중분류 검색건수']"
   ]
  },
  {
   "cell_type": "code",
   "execution_count": 211,
   "id": "69a8baf8",
   "metadata": {},
   "outputs": [],
   "source": [
    "df1 = df1[['시군','시군구','기타관광_검색건수']]\n",
    "df2 = df2[['시군','시군구','문화관광_검색건수']]\n",
    "df3 = df3[['시군','시군구','숙박_검색건수']]\n",
    "df4 = df4[['시군','시군구','역사관광_검색건수']]\n",
    "df5 = df5[['시군','시군구','음식_검색건수']]\n",
    "df6 = df6[['시군','시군구','자연관광_검색건수']]\n",
    "df7 = df7[['시군','시군구','체험관광_검색건수']]"
   ]
  },
  {
   "cell_type": "code",
   "execution_count": 212,
   "id": "58274988",
   "metadata": {},
   "outputs": [
    {
     "data": {
      "text/plain": [
       "시군           0\n",
       "시군구          0\n",
       "자연관광_검색건수    0\n",
       "dtype: int64"
      ]
     },
     "execution_count": 212,
     "metadata": {},
     "output_type": "execute_result"
    }
   ],
   "source": [
    "df6.isnull().sum()"
   ]
  },
  {
   "cell_type": "code",
   "execution_count": 213,
   "id": "60c02fa9",
   "metadata": {},
   "outputs": [],
   "source": [
    "df1.loc[df1['시군'].str.contains('광역시'),'시군구'] = df1[df1['시군'].str.contains('광역시')]['시군'] + ' ' + df1[df1['시군'].str.contains('광역시')]['시군구']\n",
    "df2.loc[df2['시군'].str.contains('광역시'),'시군구'] = df2[df2['시군'].str.contains('광역시')]['시군'] + ' ' + df2[df2['시군'].str.contains('광역시')]['시군구']\n",
    "df3.loc[df3['시군'].str.contains('광역시'),'시군구'] = df3[df3['시군'].str.contains('광역시')]['시군'] + ' ' + df3[df3['시군'].str.contains('광역시')]['시군구']\n",
    "df4.loc[df4['시군'].str.contains('광역시'),'시군구'] = df4[df4['시군'].str.contains('광역시')]['시군'] + ' ' + df4[df4['시군'].str.contains('광역시')]['시군구']\n",
    "df5.loc[df5['시군'].str.contains('광역시'),'시군구'] = df5[df5['시군'].str.contains('광역시')]['시군'] + ' ' + df5[df5['시군'].str.contains('광역시')]['시군구']\n",
    "df6.loc[df6['시군'].str.contains('광역시'),'시군구'] = df6[df6['시군'].str.contains('광역시')]['시군'] + ' ' + df6[df6['시군'].str.contains('광역시')]['시군구']\n",
    "df7.loc[df7['시군'].str.contains('광역시'),'시군구'] = df7[df7['시군'].str.contains('광역시')]['시군'] + ' ' + df7[df7['시군'].str.contains('광역시')]['시군구']"
   ]
  },
  {
   "cell_type": "code",
   "execution_count": 219,
   "id": "bc0ed0fb",
   "metadata": {},
   "outputs": [
    {
     "data": {
      "text/html": [
       "<div>\n",
       "<style scoped>\n",
       "    .dataframe tbody tr th:only-of-type {\n",
       "        vertical-align: middle;\n",
       "    }\n",
       "\n",
       "    .dataframe tbody tr th {\n",
       "        vertical-align: top;\n",
       "    }\n",
       "\n",
       "    .dataframe thead th {\n",
       "        text-align: right;\n",
       "    }\n",
       "</style>\n",
       "<table border=\"1\" class=\"dataframe\">\n",
       "  <thead>\n",
       "    <tr style=\"text-align: right;\">\n",
       "      <th></th>\n",
       "      <th>시군</th>\n",
       "      <th>시군구</th>\n",
       "      <th>체험관광_검색건수</th>\n",
       "    </tr>\n",
       "  </thead>\n",
       "  <tbody>\n",
       "    <tr>\n",
       "      <th>145</th>\n",
       "      <td>울산광역시</td>\n",
       "      <td>울산광역시 남구</td>\n",
       "      <td>83</td>\n",
       "    </tr>\n",
       "    <tr>\n",
       "      <th>146</th>\n",
       "      <td>울산광역시</td>\n",
       "      <td>울산광역시 동구</td>\n",
       "      <td>33</td>\n",
       "    </tr>\n",
       "    <tr>\n",
       "      <th>147</th>\n",
       "      <td>울산광역시</td>\n",
       "      <td>울산광역시 북구</td>\n",
       "      <td>1139</td>\n",
       "    </tr>\n",
       "    <tr>\n",
       "      <th>148</th>\n",
       "      <td>울산광역시</td>\n",
       "      <td>울산광역시 울주군</td>\n",
       "      <td>21070</td>\n",
       "    </tr>\n",
       "    <tr>\n",
       "      <th>149</th>\n",
       "      <td>울산광역시</td>\n",
       "      <td>울산광역시 중구</td>\n",
       "      <td>575</td>\n",
       "    </tr>\n",
       "  </tbody>\n",
       "</table>\n",
       "</div>"
      ],
      "text/plain": [
       "        시군        시군구  체험관광_검색건수\n",
       "145  울산광역시   울산광역시 남구         83\n",
       "146  울산광역시   울산광역시 동구         33\n",
       "147  울산광역시   울산광역시 북구       1139\n",
       "148  울산광역시  울산광역시 울주군      21070\n",
       "149  울산광역시   울산광역시 중구        575"
      ]
     },
     "execution_count": 219,
     "metadata": {},
     "output_type": "execute_result"
    }
   ],
   "source": [
    "df7[df7['시군']== '울산광역시']"
   ]
  },
  {
   "cell_type": "code",
   "execution_count": 216,
   "id": "641aa4ba",
   "metadata": {},
   "outputs": [
    {
     "data": {
      "text/plain": [
       "시군           0\n",
       "시군구          0\n",
       "체험관광_검색건수    0\n",
       "dtype: int64"
      ]
     },
     "execution_count": 216,
     "metadata": {},
     "output_type": "execute_result"
    }
   ],
   "source": [
    "df7.isnull().sum()"
   ]
  },
  {
   "cell_type": "code",
   "execution_count": 217,
   "id": "07038ca2",
   "metadata": {},
   "outputs": [],
   "source": [
    "df1 = df1[['시군','시군구','기타관광_검색건수']]\n",
    "df2 = df2[['시군','시군구','문화관광_검색건수']]\n",
    "df3 = df3[['시군','시군구','숙박_검색건수']]\n",
    "df4 = df4[['시군','시군구','역사관광_검색건수']]\n",
    "df5 = df5[['시군','시군구','음식_검색건수']]\n",
    "df6 = df6[['시군','시군구','자연관광_검색건수']]\n",
    "df7 = df7[['시군','시군구','체험관광_검색건수']]"
   ]
  },
  {
   "cell_type": "code",
   "execution_count": 218,
   "id": "e8fa617f",
   "metadata": {},
   "outputs": [
    {
     "data": {
      "text/plain": [
       "시군           0\n",
       "시군구          0\n",
       "자연관광_검색건수    0\n",
       "dtype: int64"
      ]
     },
     "execution_count": 218,
     "metadata": {},
     "output_type": "execute_result"
    }
   ],
   "source": [
    "df6.isnull().sum()"
   ]
  },
  {
   "cell_type": "code",
   "execution_count": 220,
   "id": "5adbc0eb",
   "metadata": {},
   "outputs": [],
   "source": [
    "#df1.to_csv('기타관광_전체.csv', encoding = 'cp949', index = False)\n",
    "#df2.to_csv('문화관광_전체.csv', encoding = 'cp949', index = False)\n",
    "#df3.to_csv('숙박_전체.csv', encoding = 'cp949', index = False)\n",
    "#df4.to_csv('역사관광_전체.csv', encoding = 'cp949', index = False)\n",
    "#df5.to_csv('음식_전체.csv', encoding = 'cp949', index = False)\n",
    "#df6.to_csv('자연관광_전체.csv', encoding = 'cp949', index = False)\n",
    "df7.to_csv('체험관광_전체.csv', encoding = 'cp949', index = False)"
   ]
  },
  {
   "cell_type": "code",
   "execution_count": null,
   "id": "35a166fb",
   "metadata": {},
   "outputs": [],
   "source": []
  },
  {
   "cell_type": "code",
   "execution_count": null,
   "id": "a6be90b5",
   "metadata": {},
   "outputs": [],
   "source": []
  }
 ],
 "metadata": {
  "kernelspec": {
   "display_name": "Python 3 (ipykernel)",
   "language": "python",
   "name": "python3"
  },
  "language_info": {
   "codemirror_mode": {
    "name": "ipython",
    "version": 3
   },
   "file_extension": ".py",
   "mimetype": "text/x-python",
   "name": "python",
   "nbconvert_exporter": "python",
   "pygments_lexer": "ipython3",
   "version": "3.10.9"
  }
 },
 "nbformat": 4,
 "nbformat_minor": 5
}
